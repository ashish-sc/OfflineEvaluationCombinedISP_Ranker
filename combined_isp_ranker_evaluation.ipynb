{
 "cells": [
  {
   "cell_type": "code",
   "execution_count": null,
   "metadata": {
    "id": "Q2bf4V0p4wKr"
   },
   "outputs": [],
   "source": [
    "from sklearn.metrics import confusion_matrix\n",
    "from sklearn.metrics import precision_score, recall_score, f1_score, accuracy_score\n",
    "from sklearn.metrics import precision_recall_fscore_support\n",
    "from sklearn.preprocessing import normalize\n",
    "import pandas as pd\n",
    "import numpy as np\n",
    "import ast\n",
    "\n",
    "######### Get the files from gs://tpu-cg-us/ranker_isp_golden_nu_Hindi/ ###############################\n",
    "df2 = pd.read_csv('000000000008',sep='&',header=None)\n",
    "df3 = pd.read_csv('000000000009',sep='&',header=None)\n",
    "df4 = pd.read_csv('000000000010',sep='&',header=None)\n",
    "df = pd.concat([df2,df3,df4])\n",
    "\n",
    "df.columns = ['postlang','time','userId','postId','eng_tags_mask','post_dense_features','post_embed','sparse_features_eng_tags',\n",
    "'sparse_features_tagId','sparse_features_userDistrict','time_dayofweek','time_hour','time_is_afternoon','time_is_evening',\n",
    "'time_is_morning','time_is_night','time_is_weekend','user_dense_features','user_embed','isp_date','model','isp_score','is_like',\n",
    "'is_share','is_fav','is_vp_succ','is_vp_skip']\n",
    "\n",
    "df['user_embed2']= df['user_embed'].apply(lambda x:list(map(lambda x:float(x),ast.literal_eval(x))))\n",
    "df['post_embed2']= df['post_embed'].apply(lambda x:list(map(lambda x:float(x),ast.literal_eval(x))))\n",
    "\n",
    "def func(row):\n",
    "    return np.dot(normalize(np.reshape(np.array(row['user_embed2'],dtype=np.float32),(1,-1)),norm='l2'),\n",
    "                  normalize(np.reshape(np.array(row['post_embed2'],dtype=np.float32),(1,-1)),norm='l2').T)[0][0]\n",
    "\n",
    "df['isp_score2'] = df.apply(func,axis=1)\n",
    "\n",
    "print(\"================================\")\n",
    "\n",
    "df.isp_score.fillna(df['isp_score2'], inplace=True)\n",
    "df.drop(['user_embed2','post_embed2','isp_score2'],axis=1,inplace=True)\n",
    "\n",
    "\n",
    "df.to_csv('combined_ranker_isp_Hindi_nu.csv',sep='&',index=False)"
   ]
  },
  {
   "cell_type": "code",
   "execution_count": null,
   "metadata": {
    "id": "aYLrBHiRJRd0"
   },
   "outputs": [],
   "source": [
    "from sklearn.metrics import confusion_matrix\n",
    "from sklearn.metrics import precision_score, recall_score, f1_score, accuracy_score\n",
    "from sklearn.metrics import precision_recall_fscore_support\n",
    "import pandas as pd\n",
    "import numpy as np\n",
    "import ast\n",
    "import tensorflow as tf"
   ]
  },
  {
   "cell_type": "code",
   "execution_count": null,
   "metadata": {
    "id": "3NtMfDpRKj6j"
   },
   "outputs": [],
   "source": [
    "df = pd.read_csv(\"combined_ranker_isp_Hindi_nu.csv\",sep='&')"
   ]
  },
  {
   "cell_type": "code",
   "execution_count": null,
   "metadata": {
    "colab": {
     "base_uri": "https://localhost:8080/",
     "height": 490
    },
    "id": "_bpT-cDiHZK2",
    "outputId": "9fdbee14-7d49-4023-bc3c-093ea1889b74"
   },
   "outputs": [
    {
     "data": {
      "text/html": [
       "\n",
       "  <div id=\"df-84df52c9-daa6-4cf4-a3f9-a88d54378149\">\n",
       "    <div class=\"colab-df-container\">\n",
       "      <div>\n",
       "<style scoped>\n",
       "    .dataframe tbody tr th:only-of-type {\n",
       "        vertical-align: middle;\n",
       "    }\n",
       "\n",
       "    .dataframe tbody tr th {\n",
       "        vertical-align: top;\n",
       "    }\n",
       "\n",
       "    .dataframe thead th {\n",
       "        text-align: right;\n",
       "    }\n",
       "</style>\n",
       "<table border=\"1\" class=\"dataframe\">\n",
       "  <thead>\n",
       "    <tr style=\"text-align: right;\">\n",
       "      <th></th>\n",
       "      <th>postlang</th>\n",
       "      <th>time</th>\n",
       "      <th>userId</th>\n",
       "      <th>postId</th>\n",
       "      <th>eng_tags_mask</th>\n",
       "      <th>post_dense_features</th>\n",
       "      <th>post_embed</th>\n",
       "      <th>sparse_features_eng_tags</th>\n",
       "      <th>sparse_features_tagId</th>\n",
       "      <th>sparse_features_userDistrict</th>\n",
       "      <th>...</th>\n",
       "      <th>user_dense_features</th>\n",
       "      <th>user_embed</th>\n",
       "      <th>isp_date</th>\n",
       "      <th>model</th>\n",
       "      <th>isp_score</th>\n",
       "      <th>is_like</th>\n",
       "      <th>is_share</th>\n",
       "      <th>is_fav</th>\n",
       "      <th>is_vp_succ</th>\n",
       "      <th>is_vp_skip</th>\n",
       "    </tr>\n",
       "  </thead>\n",
       "  <tbody>\n",
       "    <tr>\n",
       "      <th>0</th>\n",
       "      <td>Hindi</td>\n",
       "      <td>2023-02-17 00:58:53.948 UTC</td>\n",
       "      <td>1759974102</td>\n",
       "      <td>5443143635</td>\n",
       "      <td>1,1,1,1,1,1,1,1,1,1,1,1,1,1,1,1,1,1,1,1,1,1,1,1,1</td>\n",
       "      <td>-0.49157286,-0.015197761,0.20486306,0.4278766,...</td>\n",
       "      <td>-0.49157286,-0.015197761,0.20486306,0.4278766,...</td>\n",
       "      <td>3970868,392705,97209,3965189,437743,2859806,10...</td>\n",
       "      <td>3752926</td>\n",
       "      <td>NaN</td>\n",
       "      <td>...</td>\n",
       "      <td>0.09303941,0.38944566,-0.12592548,0.013801534,...</td>\n",
       "      <td>0.09303941,0.38944566,-0.12592548,0.013801534,...</td>\n",
       "      <td>2023-02-17 00:52:45 UTC</td>\n",
       "      <td>isp_ranker_sugg_video_realtime_ffm</td>\n",
       "      <td>5.228948</td>\n",
       "      <td>NaN</td>\n",
       "      <td>NaN</td>\n",
       "      <td>NaN</td>\n",
       "      <td>0</td>\n",
       "      <td>1</td>\n",
       "    </tr>\n",
       "    <tr>\n",
       "      <th>1</th>\n",
       "      <td>Hindi</td>\n",
       "      <td>2023-02-17 00:52:25.496 UTC</td>\n",
       "      <td>2245741155</td>\n",
       "      <td>5143193635</td>\n",
       "      <td>1,1,1,1,1,1,1,1,1,1,1,1,1,1,1,1,1,1,1,0,0,0,0,0,0</td>\n",
       "      <td>-0.26532394,0.023439672,-0.35637814,-0.1182885...</td>\n",
       "      <td>-0.26532394,0.023439672,-0.35637814,-0.1182885...</td>\n",
       "      <td>851190,457799,4325675,1307875,339940,3970882,9...</td>\n",
       "      <td>173229</td>\n",
       "      <td>NaN</td>\n",
       "      <td>...</td>\n",
       "      <td>-0.29729316,-0.2076694,-0.19222566,-0.10918815...</td>\n",
       "      <td>-0.29729316,-0.2076694,-0.19222566,-0.10918815...</td>\n",
       "      <td>NaN</td>\n",
       "      <td>NaN</td>\n",
       "      <td>-0.605581</td>\n",
       "      <td>NaN</td>\n",
       "      <td>NaN</td>\n",
       "      <td>NaN</td>\n",
       "      <td>0</td>\n",
       "      <td>1</td>\n",
       "    </tr>\n",
       "    <tr>\n",
       "      <th>2</th>\n",
       "      <td>Hindi</td>\n",
       "      <td>2023-02-17 00:44:20.194 UTC</td>\n",
       "      <td>1637723133</td>\n",
       "      <td>7715079135</td>\n",
       "      <td>1,1,1,1,1,1,1,1,1,1,1,0,0,0,0,0,0,0,0,0,0,0,0,0,0</td>\n",
       "      <td>0.016881194,-0.134322,0.48357236,0.51583666,-0...</td>\n",
       "      <td>0.016881194,-0.134322,0.48357236,0.51583666,-0...</td>\n",
       "      <td>6126496,4344180,337474,3965189,3757983,7728706...</td>\n",
       "      <td>718909</td>\n",
       "      <td>NaN</td>\n",
       "      <td>...</td>\n",
       "      <td>0.12224271,-0.00018345535,-0.13967116,0.192661...</td>\n",
       "      <td>0.12224271,-0.00018345535,-0.13967116,0.192661...</td>\n",
       "      <td>NaN</td>\n",
       "      <td>NaN</td>\n",
       "      <td>-0.774085</td>\n",
       "      <td>NaN</td>\n",
       "      <td>NaN</td>\n",
       "      <td>NaN</td>\n",
       "      <td>0</td>\n",
       "      <td>1</td>\n",
       "    </tr>\n",
       "    <tr>\n",
       "      <th>3</th>\n",
       "      <td>Hindi</td>\n",
       "      <td>2023-02-17 00:48:35.506 UTC</td>\n",
       "      <td>855736416</td>\n",
       "      <td>9095229335</td>\n",
       "      <td>1,1,1,1,1,1,1,1,1,1,1,1,1,1,1,1,1,1,1,1,1,1,1,1,1</td>\n",
       "      <td>0.23273607,-0.21051688,-0.022401525,0.2591531,...</td>\n",
       "      <td>0.23273607,-0.21051688,-0.022401525,0.2591531,...</td>\n",
       "      <td>687,109358,592007,312374,1278163,3970849,39708...</td>\n",
       "      <td>12111522</td>\n",
       "      <td>NaN</td>\n",
       "      <td>...</td>\n",
       "      <td>0.51846147,-0.028721439,-0.37994006,-0.0895136...</td>\n",
       "      <td>0.51846147,-0.028721439,-0.37994006,-0.0895136...</td>\n",
       "      <td>NaN</td>\n",
       "      <td>NaN</td>\n",
       "      <td>-0.437082</td>\n",
       "      <td>NaN</td>\n",
       "      <td>NaN</td>\n",
       "      <td>NaN</td>\n",
       "      <td>0</td>\n",
       "      <td>1</td>\n",
       "    </tr>\n",
       "    <tr>\n",
       "      <th>4</th>\n",
       "      <td>Hindi</td>\n",
       "      <td>2023-02-17 00:33:51.362 UTC</td>\n",
       "      <td>668895138</td>\n",
       "      <td>5847111635</td>\n",
       "      <td>1,1,1,1,1,1,1,1,1,1,1,1,1,1,1,1,1,1,1,1,1,1,1,0,0</td>\n",
       "      <td>-0.56743217,-0.2478295,-0.531914,-0.22087942,-...</td>\n",
       "      <td>-0.56743217,-0.2478295,-0.531914,-0.22087942,-...</td>\n",
       "      <td>221065,418220,1352256,1173370,2859806,8099565,...</td>\n",
       "      <td>10837639</td>\n",
       "      <td>NaN</td>\n",
       "      <td>...</td>\n",
       "      <td>0.2939948,0.0075860075,0.07450469,0.05363995,0...</td>\n",
       "      <td>0.2939948,0.0075860075,0.07450469,0.05363995,0...</td>\n",
       "      <td>NaN</td>\n",
       "      <td>NaN</td>\n",
       "      <td>-0.422589</td>\n",
       "      <td>NaN</td>\n",
       "      <td>NaN</td>\n",
       "      <td>NaN</td>\n",
       "      <td>0</td>\n",
       "      <td>1</td>\n",
       "    </tr>\n",
       "  </tbody>\n",
       "</table>\n",
       "<p>5 rows × 27 columns</p>\n",
       "</div>\n",
       "      <button class=\"colab-df-convert\" onclick=\"convertToInteractive('df-84df52c9-daa6-4cf4-a3f9-a88d54378149')\"\n",
       "              title=\"Convert this dataframe to an interactive table.\"\n",
       "              style=\"display:none;\">\n",
       "        \n",
       "  <svg xmlns=\"http://www.w3.org/2000/svg\" height=\"24px\"viewBox=\"0 0 24 24\"\n",
       "       width=\"24px\">\n",
       "    <path d=\"M0 0h24v24H0V0z\" fill=\"none\"/>\n",
       "    <path d=\"M18.56 5.44l.94 2.06.94-2.06 2.06-.94-2.06-.94-.94-2.06-.94 2.06-2.06.94zm-11 1L8.5 8.5l.94-2.06 2.06-.94-2.06-.94L8.5 2.5l-.94 2.06-2.06.94zm10 10l.94 2.06.94-2.06 2.06-.94-2.06-.94-.94-2.06-.94 2.06-2.06.94z\"/><path d=\"M17.41 7.96l-1.37-1.37c-.4-.4-.92-.59-1.43-.59-.52 0-1.04.2-1.43.59L10.3 9.45l-7.72 7.72c-.78.78-.78 2.05 0 2.83L4 21.41c.39.39.9.59 1.41.59.51 0 1.02-.2 1.41-.59l7.78-7.78 2.81-2.81c.8-.78.8-2.07 0-2.86zM5.41 20L4 18.59l7.72-7.72 1.47 1.35L5.41 20z\"/>\n",
       "  </svg>\n",
       "      </button>\n",
       "      \n",
       "  <style>\n",
       "    .colab-df-container {\n",
       "      display:flex;\n",
       "      flex-wrap:wrap;\n",
       "      gap: 12px;\n",
       "    }\n",
       "\n",
       "    .colab-df-convert {\n",
       "      background-color: #E8F0FE;\n",
       "      border: none;\n",
       "      border-radius: 50%;\n",
       "      cursor: pointer;\n",
       "      display: none;\n",
       "      fill: #1967D2;\n",
       "      height: 32px;\n",
       "      padding: 0 0 0 0;\n",
       "      width: 32px;\n",
       "    }\n",
       "\n",
       "    .colab-df-convert:hover {\n",
       "      background-color: #E2EBFA;\n",
       "      box-shadow: 0px 1px 2px rgba(60, 64, 67, 0.3), 0px 1px 3px 1px rgba(60, 64, 67, 0.15);\n",
       "      fill: #174EA6;\n",
       "    }\n",
       "\n",
       "    [theme=dark] .colab-df-convert {\n",
       "      background-color: #3B4455;\n",
       "      fill: #D2E3FC;\n",
       "    }\n",
       "\n",
       "    [theme=dark] .colab-df-convert:hover {\n",
       "      background-color: #434B5C;\n",
       "      box-shadow: 0px 1px 3px 1px rgba(0, 0, 0, 0.15);\n",
       "      filter: drop-shadow(0px 1px 2px rgba(0, 0, 0, 0.3));\n",
       "      fill: #FFFFFF;\n",
       "    }\n",
       "  </style>\n",
       "\n",
       "      <script>\n",
       "        const buttonEl =\n",
       "          document.querySelector('#df-84df52c9-daa6-4cf4-a3f9-a88d54378149 button.colab-df-convert');\n",
       "        buttonEl.style.display =\n",
       "          google.colab.kernel.accessAllowed ? 'block' : 'none';\n",
       "\n",
       "        async function convertToInteractive(key) {\n",
       "          const element = document.querySelector('#df-84df52c9-daa6-4cf4-a3f9-a88d54378149');\n",
       "          const dataTable =\n",
       "            await google.colab.kernel.invokeFunction('convertToInteractive',\n",
       "                                                     [key], {});\n",
       "          if (!dataTable) return;\n",
       "\n",
       "          const docLinkHtml = 'Like what you see? Visit the ' +\n",
       "            '<a target=\"_blank\" href=https://colab.research.google.com/notebooks/data_table.ipynb>data table notebook</a>'\n",
       "            + ' to learn more about interactive tables.';\n",
       "          element.innerHTML = '';\n",
       "          dataTable['output_type'] = 'display_data';\n",
       "          await google.colab.output.renderOutput(dataTable, element);\n",
       "          const docLink = document.createElement('div');\n",
       "          docLink.innerHTML = docLinkHtml;\n",
       "          element.appendChild(docLink);\n",
       "        }\n",
       "      </script>\n",
       "    </div>\n",
       "  </div>\n",
       "  "
      ],
      "text/plain": [
       "  postlang                         time      userId      postId  \\\n",
       "0    Hindi  2023-02-17 00:58:53.948 UTC  1759974102  5443143635   \n",
       "1    Hindi  2023-02-17 00:52:25.496 UTC  2245741155  5143193635   \n",
       "2    Hindi  2023-02-17 00:44:20.194 UTC  1637723133  7715079135   \n",
       "3    Hindi  2023-02-17 00:48:35.506 UTC   855736416  9095229335   \n",
       "4    Hindi  2023-02-17 00:33:51.362 UTC   668895138  5847111635   \n",
       "\n",
       "                                       eng_tags_mask  \\\n",
       "0  1,1,1,1,1,1,1,1,1,1,1,1,1,1,1,1,1,1,1,1,1,1,1,1,1   \n",
       "1  1,1,1,1,1,1,1,1,1,1,1,1,1,1,1,1,1,1,1,0,0,0,0,0,0   \n",
       "2  1,1,1,1,1,1,1,1,1,1,1,0,0,0,0,0,0,0,0,0,0,0,0,0,0   \n",
       "3  1,1,1,1,1,1,1,1,1,1,1,1,1,1,1,1,1,1,1,1,1,1,1,1,1   \n",
       "4  1,1,1,1,1,1,1,1,1,1,1,1,1,1,1,1,1,1,1,1,1,1,1,0,0   \n",
       "\n",
       "                                 post_dense_features  \\\n",
       "0  -0.49157286,-0.015197761,0.20486306,0.4278766,...   \n",
       "1  -0.26532394,0.023439672,-0.35637814,-0.1182885...   \n",
       "2  0.016881194,-0.134322,0.48357236,0.51583666,-0...   \n",
       "3  0.23273607,-0.21051688,-0.022401525,0.2591531,...   \n",
       "4  -0.56743217,-0.2478295,-0.531914,-0.22087942,-...   \n",
       "\n",
       "                                          post_embed  \\\n",
       "0  -0.49157286,-0.015197761,0.20486306,0.4278766,...   \n",
       "1  -0.26532394,0.023439672,-0.35637814,-0.1182885...   \n",
       "2  0.016881194,-0.134322,0.48357236,0.51583666,-0...   \n",
       "3  0.23273607,-0.21051688,-0.022401525,0.2591531,...   \n",
       "4  -0.56743217,-0.2478295,-0.531914,-0.22087942,-...   \n",
       "\n",
       "                            sparse_features_eng_tags  sparse_features_tagId  \\\n",
       "0  3970868,392705,97209,3965189,437743,2859806,10...                3752926   \n",
       "1  851190,457799,4325675,1307875,339940,3970882,9...                 173229   \n",
       "2  6126496,4344180,337474,3965189,3757983,7728706...                 718909   \n",
       "3  687,109358,592007,312374,1278163,3970849,39708...               12111522   \n",
       "4  221065,418220,1352256,1173370,2859806,8099565,...               10837639   \n",
       "\n",
       "  sparse_features_userDistrict  ...  \\\n",
       "0                          NaN  ...   \n",
       "1                          NaN  ...   \n",
       "2                          NaN  ...   \n",
       "3                          NaN  ...   \n",
       "4                          NaN  ...   \n",
       "\n",
       "                                 user_dense_features  \\\n",
       "0  0.09303941,0.38944566,-0.12592548,0.013801534,...   \n",
       "1  -0.29729316,-0.2076694,-0.19222566,-0.10918815...   \n",
       "2  0.12224271,-0.00018345535,-0.13967116,0.192661...   \n",
       "3  0.51846147,-0.028721439,-0.37994006,-0.0895136...   \n",
       "4  0.2939948,0.0075860075,0.07450469,0.05363995,0...   \n",
       "\n",
       "                                          user_embed                 isp_date  \\\n",
       "0  0.09303941,0.38944566,-0.12592548,0.013801534,...  2023-02-17 00:52:45 UTC   \n",
       "1  -0.29729316,-0.2076694,-0.19222566,-0.10918815...                      NaN   \n",
       "2  0.12224271,-0.00018345535,-0.13967116,0.192661...                      NaN   \n",
       "3  0.51846147,-0.028721439,-0.37994006,-0.0895136...                      NaN   \n",
       "4  0.2939948,0.0075860075,0.07450469,0.05363995,0...                      NaN   \n",
       "\n",
       "                                model  isp_score  is_like  is_share is_fav  \\\n",
       "0  isp_ranker_sugg_video_realtime_ffm   5.228948      NaN       NaN    NaN   \n",
       "1                                 NaN  -0.605581      NaN       NaN    NaN   \n",
       "2                                 NaN  -0.774085      NaN       NaN    NaN   \n",
       "3                                 NaN  -0.437082      NaN       NaN    NaN   \n",
       "4                                 NaN  -0.422589      NaN       NaN    NaN   \n",
       "\n",
       "  is_vp_succ is_vp_skip  \n",
       "0          0          1  \n",
       "1          0          1  \n",
       "2          0          1  \n",
       "3          0          1  \n",
       "4          0          1  \n",
       "\n",
       "[5 rows x 27 columns]"
      ]
     },
     "execution_count": 5,
     "metadata": {},
     "output_type": "execute_result"
    }
   ],
   "source": [
    "df.head()"
   ]
  },
  {
   "cell_type": "code",
   "execution_count": null,
   "metadata": {
    "id": "mwfabEiIfKU0"
   },
   "outputs": [],
   "source": [
    "df['user_dense_features'].fillna(\"0.0, 0.0, 0.0, 0.0, 0.0, 0.0, 0.0, 0.0, 0.0, 0.0, 0.0, 0.0, 0.0, 0.0, 0.0, 0.0, 0.0, 0.0, 0.0, 0.0, 0.0, 0.0, 0.0, 0.0, 0.0, 0.0, 0.0, 0.0, 0.0, 0.0, 0.0, 0.0, 0.0, 0.0, 0.0, 0.0, 0.0, 0.0, 0.0, 0.0, 0.0, 0.0, 0.0, 0.0, 0.0, 0.0, 0.0, 0.0, 0.0, 0.0, 0.0, 0.0, 0.0, 0.0, 0.0, 0.0, 0.0, 0.0, 0.0, 0.0, 0.0, 0.0, 0.0, 0.0, 0.0, 0.0, 0.0, 0.0, 0.0, 0.0, 0.0, 0.0, 0.0, 0.0, 0.0, 0.0, 0.0, 0.0, 0.0, 0.0, 0.0, 0.0, 0.0, 0.0, 0.0, 0.0, 0.0, 0.0, 0.0, 0.0, 0.0, 0.0, 0.0, 0.0, 0.0, 0.0, 0.0, 0.0, 0.0, 0.0, 0.0, 0.0, 0.0, 0.0, 0.0, 0.0, 0.0, 0.0, 0.0, 0.0, 0.0, 0.0, 0.0, 0.0, 0.0, 0.0, 0.0, 0.0, 0.0, 0.0, 0.0, 0.0, 0.0, 0.0, 0.0, 0.0, 0.0, 0.0, 0.0, 0.0, 0.0, 0.0, 0.0, 0.0, 0.0, 0.0, 0.0, 0.0, 0.0, 0.0, 0.0, 0.0, 0.0, 0.0, 0.0, 0.0, 0.0, 0.0, 0.0, 0.0, 0.0, 0.0, 0.0, 0.0, 0.0, 0.0, 0.0, 0.0, 0.0, 0.0, 0.0, 0.0, 0.0\",inplace=True)\n",
    "df['sparse_features_eng_tags'].fillna(\"0, 0, 0, 0, 0, 0, 0, 0, 0, 0, 0, 0, 0, 0, 0, 0, 0, 0, 0, 0, 0, 0, 0, 0, 0\",inplace=True)\n",
    "df['post_dense_features'].fillna(\"0.0, 0.0, 0.0, 0.0, 0.0, 0.0, 0.0, 0.0, 0.0, 0.0, 0.0, 0.0, 0.0, 0.0, 0.0, 0.0, 0.0, 0.0, 0.0, 0.0, 0.0, 0.0, 0.0, 0.0, 0.0, 0.0, 0.0, 0.0, 0.0, 0.0, 0.0, 0.0, 0.0, 0.0, 0.0, 0.0, 0.0, 0.0, 0.0, 0.0, 0.0, 0.0, 0.0, 0.0, 0.0, 0.0, 0.0, 0.0, 0.0, 0.0, 0.0, 0.0, 0.0, 0.0, 0.0, 0.0, 0.0, 0.0, 0.0, 0.0, 0.0, 0.0, 0.0, 0.0, 0.0, 0.0, 0.0, 0.0, 0.0, 0.0, 0.0, 0.0, 0.0, 0.0, 0.0, 0.0, 0.0, 0.0, 0.0, 0.0, 0.0, 0.0, 0.0, 0.0, 0.0, 0.0, 0.0, 0.0, 0.0, 0.0, 0.0, 0.0, 0.0, 0.0, 0.0, 0.0, 0.0, 0.0, 0.0, 0.0, 0.0, 0.0, 0.0, 0.0, 0.0, 0.0, 0.0, 0.0, 0.0, 0.0, 0.0, 0.0, 0.0, 0.0, 0.0, 0.0, 0.0, 0.0, 0.0, 0.0, 0.0, 0.0, 0.0, 0.0, 0.0, 0.0, 0.0, 0.0, 0.0, 0.0, 0.0, 0.0, 0.0, 0.0, 0.0, 0.0, 0.0, 0.0, 0.0, 0.0, 0.0, 0.0, 0.0, 0.0, 0.0, 0.0, 0.0, 0.0, 0.0, 0.0, 0.0, 0.0, 0.0, 0.0, 0.0, 0.0\",inplace=True)\n"
   ]
  },
  {
   "cell_type": "code",
   "execution_count": null,
   "metadata": {
    "id": "iCs0vXfwf2Jr"
   },
   "outputs": [],
   "source": [
    "from sklearn.preprocessing import LabelEncoder\n",
    "le = LabelEncoder()\n",
    "df['sparse_features_tagId'] = le.fit_transform(df.sparse_features_tagId.values)\n",
    "\n",
    "le2 = LabelEncoder()\n",
    "df['sparse_features_userDistrict'] = le2.fit_transform(df.sparse_features_userDistrict.values)"
   ]
  },
  {
   "cell_type": "code",
   "execution_count": null,
   "metadata": {
    "id": "8joSqvtaheCM"
   },
   "outputs": [],
   "source": [
    "df['sparse_features_eng_tags2']= df['sparse_features_eng_tags'].apply(lambda x:list(map(lambda x:int(x),ast.literal_eval(x))))\n"
   ]
  },
  {
   "cell_type": "code",
   "execution_count": null,
   "metadata": {
    "id": "BJUWdEdJkxFa"
   },
   "outputs": [],
   "source": [
    "st=set()\n",
    "for i in df['sparse_features_eng_tags2']:\n",
    "  for val in i:\n",
    "    st.add(val)"
   ]
  },
  {
   "cell_type": "code",
   "execution_count": null,
   "metadata": {
    "id": "73StW1Vumy97"
   },
   "outputs": [],
   "source": [
    "le3 = LabelEncoder()\n",
    "le3.fit(np.array(list(st)))\n",
    "\n",
    "li = []\n",
    "for i in df['sparse_features_eng_tags2']:\n",
    "  li.append(le3.transform(i))\n",
    "\n",
    "df['sparse_features_eng_tags3'] = li"
   ]
  },
  {
   "cell_type": "code",
   "execution_count": null,
   "metadata": {
    "colab": {
     "base_uri": "https://localhost:8080/"
    },
    "id": "yazqY1MD5KxX",
    "outputId": "7f4e5089-f38d-459f-9850-70d27c927bea"
   },
   "outputs": [
    {
     "data": {
      "text/plain": [
       "postlang                         object\n",
       "time                             object\n",
       "userId                            int64\n",
       "postId                            int64\n",
       "eng_tags_mask                    object\n",
       "post_dense_features              object\n",
       "post_embed                       object\n",
       "sparse_features_eng_tags         object\n",
       "sparse_features_tagId             int64\n",
       "sparse_features_userDistrict      int64\n",
       "time_dayofweek                    int64\n",
       "time_hour                         int64\n",
       "time_is_afternoon                 int64\n",
       "time_is_evening                   int64\n",
       "time_is_morning                   int64\n",
       "time_is_night                     int64\n",
       "time_is_weekend                   int64\n",
       "user_dense_features              object\n",
       "user_embed                       object\n",
       "isp_date                         object\n",
       "model                            object\n",
       "isp_score                       float64\n",
       "is_like                         float64\n",
       "is_share                        float64\n",
       "is_fav                          float64\n",
       "is_vp_succ                        int64\n",
       "is_vp_skip                        int64\n",
       "sparse_features_eng_tags2        object\n",
       "sparse_features_eng_tags3        object\n",
       "dtype: object"
      ]
     },
     "execution_count": 12,
     "metadata": {},
     "output_type": "execute_result"
    }
   ],
   "source": [
    "df.dtypes"
   ]
  },
  {
   "cell_type": "code",
   "execution_count": null,
   "metadata": {
    "id": "9t_yzLDfHcXI"
   },
   "outputs": [],
   "source": [
    "ranker_model = tf.saved_model.load('export_saved_model')"
   ]
  },
  {
   "cell_type": "code",
   "execution_count": null,
   "metadata": {
    "id": "t4UsuJsBxAZ_"
   },
   "outputs": [],
   "source": [
    "preds=[]\n",
    "for ind,row in df.iterrows():\n",
    "      # print(\"lang \",row['postlang'])\n",
    "      inputs = {\n",
    "                  \"eng_tags_mask\": tf.convert_to_tensor([tf.strings.to_number(tf.strings.split(row['eng_tags_mask'], sep=\",\"),tf.float32)]),\n",
    "                  \"post_dense_features\": tf.convert_to_tensor([tf.strings.to_number(tf.strings.split(row['post_dense_features'], sep=\",\"),tf.float32)]),\n",
    "                  \"post_embed\": tf.convert_to_tensor([tf.strings.to_number(tf.strings.split(row['post_embed'], sep=\",\"),tf.float32)]),\n",
    "                  \"sparse_features\": {\"eng_tags\": tf.convert_to_tensor([tf.cast(row['sparse_features_eng_tags3'],tf.int32)]),\n",
    "                                      \"tagId\": tf.convert_to_tensor([tf.cast(row['sparse_features_tagId'], tf.int32)]),\n",
    "                                      \"userDistrict\": tf.convert_to_tensor([tf.cast(row['sparse_features_userDistrict'],tf.int32)])},\n",
    "                  \"time\": {\"dayofweek\": tf.convert_to_tensor([tf.cast(row['time_dayofweek'],tf.int32)]), \"hour\": tf.convert_to_tensor([tf.cast(row['time_hour'],tf.int32)]), \"is_afternoon\": tf.convert_to_tensor([tf.expand_dims(tf.cast(row['time_is_afternoon'],tf.float32),axis=-1)]),\n",
    "                           \"is_evening\": tf.convert_to_tensor([tf.expand_dims(tf.cast(row['time_is_evening'],tf.float32),axis=-1)]),\n",
    "                           \"is_morning\": tf.convert_to_tensor([tf.expand_dims(tf.cast(row['time_is_morning'],tf.float32),axis=-1)]), \"is_night\": tf.convert_to_tensor([tf.expand_dims(tf.cast(row['time_is_night'],tf.float32),axis=-1)]), \"is_weekend\": tf.convert_to_tensor([tf.expand_dims(tf.cast(row['time_is_weekend'],tf.float32),axis=-1)])},\n",
    "                  \"user_dense_features\": tf.convert_to_tensor([tf.strings.to_number(tf.strings.split(row['user_dense_features'], sep=\",\"),tf.float32)]),\n",
    "                  \"user_embed\": tf.convert_to_tensor([tf.strings.to_number(tf.strings.split(row['user_embed'], sep=\",\"),tf.float32)])\n",
    "                  }\n",
    "      # print(\"eng_tags_mask \",inputs[\"eng_tags_mask\"].shape,\" post_dense_features \",inputs['post_dense_features'].shape,\" post_embed \",inputs[\"post_embed\"].shape)\n",
    "      # print(\"eng_tags \",inputs[\"sparse_features\"][\"eng_tags\"].shape,\" tagId \",inputs[\"sparse_features\"]['tagId'].shape,\" userDistrict \",inputs[\"sparse_features\"][\"userDistrict\"].shape)\n",
    "      # print(\"dayofweek \",inputs[\"time\"][\"dayofweek\"].shape,\" hour \",inputs[\"time\"]['hour'].shape,\" is_afternoon \",inputs[\"time\"][\"is_afternoon\"].shape,\" is_evening \",inputs[\"time\"][\"is_evening\"].shape)\n",
    "      # print(\"is_morning \",inputs[\"time\"][\"is_morning\"].shape,\" is_night \",inputs[\"time\"]['is_night'].shape,\" is_weekend \",inputs[\"time\"][\"is_weekend\"].shape)\n",
    "      # print(\"user_dense_features \",inputs[\"user_dense_features\"].shape,\" user_embed \",inputs['user_embed'].shape)\n",
    "      preds.append(ranker_model(inputs=inputs,training=False))\n",
    "      # print(\"preds \",preds)"
   ]
  },
  {
   "cell_type": "code",
   "execution_count": null,
   "metadata": {
    "id": "aItnLdCjxvmT"
   },
   "outputs": [],
   "source": [
    "df.drop(['sparse_features_eng_tags2'],axis=1, inplace=True)"
   ]
  },
  {
   "cell_type": "code",
   "execution_count": null,
   "metadata": {
    "id": "iiAm8vlRNBrR"
   },
   "outputs": [],
   "source": [
    "preds2 = [a.numpy()[0] for a in preds]"
   ]
  },
  {
   "cell_type": "code",
   "execution_count": null,
   "metadata": {
    "id": "Z1rKRrQSr9EJ"
   },
   "outputs": [],
   "source": [
    "df['pred'] = preds2\n",
    "\n",
    "df.to_csv(\"final_result_nu.csv\",sep='&',index=False)"
   ]
  },
  {
   "cell_type": "code",
   "execution_count": null,
   "metadata": {
    "id": "uzDyWTgT5gu8"
   },
   "outputs": [],
   "source": [
    "df = pd.read_csv(\"final_result_nu.csv\",sep='&')"
   ]
  },
  {
   "cell_type": "code",
   "execution_count": null,
   "metadata": {
    "id": "RlOcDzONnmdY"
   },
   "outputs": [],
   "source": [
    "df['is_like2'] = df['is_like']\n",
    "df['is_fav2'] = df['is_fav']\n",
    "df['is_share2'] = df['is_share']\n",
    "\n",
    "df['is_like2'].fillna(0,inplace=True)\n",
    "df['is_share2'].fillna(0,inplace=True)\n",
    "df['is_fav2'].fillna(0,inplace=True)"
   ]
  },
  {
   "cell_type": "code",
   "execution_count": null,
   "metadata": {
    "id": "nwLadzwDoCB5"
   },
   "outputs": [],
   "source": [
    "df['is_vp_succ2'] = df['is_vp_succ']+df['is_like2']+df['is_fav2']+df['is_share2']\n",
    "df['is_vp_succ2'] = df['is_vp_succ2'].apply(lambda x: 1 if x>0 else 0)"
   ]
  },
  {
   "cell_type": "code",
   "execution_count": null,
   "metadata": {
    "id": "WBMkNMtpqCVO"
   },
   "outputs": [],
   "source": [
    "\n",
    "\n",
    "X = df[['isp_score','pred']]\n",
    "y = df['is_vp_succ2']\n",
    "\n",
    "# from sklearn.preprocessing import StandardScaler\n",
    "# scaler = StandardScaler()\n",
    "# scaler.fit(X)\n",
    "# X = scaler.transform(X)"
   ]
  },
  {
   "cell_type": "code",
   "execution_count": null,
   "metadata": {
    "colab": {
     "base_uri": "https://localhost:8080/"
    },
    "id": "vGIYqoPCpM-5",
    "outputId": "1f90a252-e3b9-42f1-9b8f-2a3458acdcfb"
   },
   "outputs": [
    {
     "data": {
      "text/plain": [
       "LogisticRegression()"
      ]
     },
     "execution_count": 102,
     "metadata": {},
     "output_type": "execute_result"
    }
   ],
   "source": [
    "from sklearn.linear_model import LogisticRegression\n",
    "lr = LogisticRegression(solver='lbfgs')\n",
    "lr.fit(X,y)"
   ]
  },
  {
   "cell_type": "code",
   "execution_count": null,
   "metadata": {
    "colab": {
     "base_uri": "https://localhost:8080/"
    },
    "id": "fj0f0Y--qOj2",
    "outputId": "b2e04d7b-a997-46ab-b13e-bdfe0367e448"
   },
   "outputs": [
    {
     "data": {
      "text/plain": [
       "0.5932457325310082"
      ]
     },
     "execution_count": 103,
     "metadata": {},
     "output_type": "execute_result"
    }
   ],
   "source": [
    "lr.score(X, y)"
   ]
  },
  {
   "cell_type": "code",
   "execution_count": null,
   "metadata": {
    "colab": {
     "base_uri": "https://localhost:8080/"
    },
    "id": "Pp10SBeUqj2x",
    "outputId": "829cf207-4e88-4bee-9142-ab83c99d4955"
   },
   "outputs": [
    {
     "data": {
      "text/plain": [
       "array([[0.01509657, 0.92485482]])"
      ]
     },
     "execution_count": 104,
     "metadata": {},
     "output_type": "execute_result"
    }
   ],
   "source": [
    "lr.coef_"
   ]
  },
  {
   "cell_type": "code",
   "execution_count": null,
   "metadata": {
    "id": "xbPumbhbvi7B"
   },
   "outputs": [],
   "source": [
    "df['isp_score_act'] = df[df['model'].notnull()]['isp_score']"
   ]
  },
  {
   "cell_type": "code",
   "execution_count": null,
   "metadata": {
    "id": "OCkjqKcHvnwQ"
   },
   "outputs": [],
   "source": [
    "dfk = df[df['isp_score_act'].notnull()]"
   ]
  },
  {
   "cell_type": "code",
   "execution_count": null,
   "metadata": {
    "id": "HE4gDArJwQZA"
   },
   "outputs": [],
   "source": [
    "X = dfk[['isp_score_act','pred']]\n",
    "y = dfk['is_vp_succ2']"
   ]
  },
  {
   "cell_type": "code",
   "execution_count": null,
   "metadata": {
    "id": "CyXZnza95rCA"
   },
   "outputs": [],
   "source": [
    "lr = LogisticRegression(solver='lbfgs')\n",
    "lr.fit(X,y)\n",
    "lr.score(X, y)"
   ]
  },
  {
   "cell_type": "code",
   "execution_count": null,
   "metadata": {
    "id": "agO3w3yR5r3k"
   },
   "outputs": [],
   "source": [
    "lr.coef_"
   ]
  },
  {
   "cell_type": "code",
   "execution_count": null,
   "metadata": {
    "id": "DVW8K7_45vgn"
   },
   "outputs": [],
   "source": [
    "tot_score = 0.01509657*X['isp_score_act']+0.92485482*X['pred']"
   ]
  },
  {
   "cell_type": "code",
   "execution_count": null,
   "metadata": {
    "colab": {
     "base_uri": "https://localhost:8080/"
    },
    "id": "_pFqCYje5sIi",
    "outputId": "15ce4ac7-3cc3-4359-e6e7-0bdfe91f0cdf"
   },
   "outputs": [
    {
     "name": "stdout",
     "output_type": "stream",
     "text": [
      "rms_train  0.6705448559833042\n"
     ]
    }
   ],
   "source": [
    "from sklearn.metrics import mean_squared_error\n",
    "import math\n",
    "rms_train = math.sqrt(mean_squared_error(y, tot_score))#dfk['pred']))#df['pred']))#tot_score0.7257371784077328\n",
    "print(\"rms_train \",rms_train)"
   ]
  },
  {
   "cell_type": "code",
   "execution_count": null,
   "metadata": {
    "id": "57MZsfUz5-Eo"
   },
   "outputs": [],
   "source": [
    "lr_pred_5 = []\n",
    "for i in tot_score:\n",
    "    if i>=0.3:\n",
    "        lr_pred_5.append(1)\n",
    "    else:\n",
    "        lr_pred_5.append(0)\n"
   ]
  },
  {
   "cell_type": "code",
   "execution_count": null,
   "metadata": {
    "colab": {
     "base_uri": "https://localhost:8080/"
    },
    "id": "M0KMC_Cc584y",
    "outputId": "9a62f44e-9f24-4ce5-8cce-3513245ef807"
   },
   "outputs": [
    {
     "data": {
      "text/plain": [
       "(array([0.69568627, 0.45940669]),\n",
       " array([0.03994056, 0.97903496]),\n",
       " array([0.07554401, 0.62536456]),\n",
       " array([22208, 18507]))"
      ]
     },
     "execution_count": 69,
     "metadata": {},
     "output_type": "execute_result"
    }
   ],
   "source": [
    "from sklearn.metrics import precision_recall_fscore_support,roc_curve,auc\n",
    "precision_recall_fscore_support(y,lr_pred_5)"
   ]
  },
  {
   "cell_type": "code",
   "execution_count": null,
   "metadata": {
    "colab": {
     "base_uri": "https://localhost:8080/"
    },
    "id": "RMuP0P3xzphW",
    "outputId": "bfb104b3-5db7-44ae-d8ca-25992eef3023"
   },
   "outputs": [
    {
     "data": {
      "text/plain": [
       "0.3966380796077783"
      ]
     },
     "execution_count": 109,
     "metadata": {},
     "output_type": "execute_result"
    }
   ],
   "source": [
    "fpr, tpr, thresholds = roc_curve(y, tot_score, pos_label=1)\n",
    "auc(fpr, tpr)"
   ]
  },
  {
   "cell_type": "code",
   "execution_count": null,
   "metadata": {
    "colab": {
     "base_uri": "https://localhost:8080/"
    },
    "id": "3C9mpwVq5_HA",
    "outputId": "0ff6ae20-e49c-4117-a282-35a9f3082181"
   },
   "outputs": [
    {
     "name": "stdout",
     "output_type": "stream",
     "text": [
      "i is  0.0\n",
      "auc  0.6037971867268841\n",
      "i is  0.01\n",
      "auc  0.6055392505460077\n",
      "i is  0.02\n",
      "auc  0.605941962749332\n",
      "i is  0.03\n",
      "auc  0.6053609323026994\n",
      "i is  0.04\n",
      "auc  0.6041862522438608\n",
      "i is  0.05\n",
      "auc  0.602731086565806\n",
      "i is  0.06\n",
      "auc  0.6012092286226922\n",
      "i is  0.07\n",
      "auc  0.5997587632625939\n",
      "i is  0.08\n",
      "auc  0.5984407478718256\n",
      "i is  0.09\n",
      "auc  0.5972665276901634\n",
      "i is  0.1\n",
      "auc  0.5962343057201602\n",
      "i is  0.11\n",
      "auc  0.5953361846369549\n",
      "i is  0.12\n",
      "auc  0.5945623222065359\n",
      "i is  0.13\n",
      "auc  0.5939065368950642\n",
      "i is  0.14\n",
      "auc  0.5933447025330754\n",
      "i is  0.15\n",
      "auc  0.5928573480483782\n",
      "i is  0.16\n",
      "auc  0.5924277714773558\n",
      "i is  0.17\n",
      "auc  0.5920412694197867\n",
      "i is  0.18\n",
      "auc  0.5916871164454628\n",
      "i is  0.19\n",
      "auc  0.591361507148025\n",
      "i is  0.2\n",
      "auc  0.5910632072890271\n",
      "i is  0.21\n",
      "auc  0.5907894779451779\n",
      "i is  0.22\n",
      "auc  0.5905385703162647\n",
      "i is  0.23\n",
      "auc  0.5903073127342301\n",
      "i is  0.24\n",
      "auc  0.590093392914803\n",
      "i is  0.25\n",
      "auc  0.5898932607099794\n",
      "i is  0.26\n",
      "auc  0.5897052656220615\n",
      "i is  0.27\n",
      "auc  0.5895297251116939\n",
      "i is  0.28\n",
      "auc  0.5893645901667526\n",
      "i is  0.29\n",
      "auc  0.5892094676534998\n",
      "i is  0.3\n",
      "auc  0.5890630668934974\n",
      "i is  0.31\n",
      "auc  0.5889233726851911\n",
      "i is  0.32\n",
      "auc  0.5887898229183153\n",
      "i is  0.33\n",
      "auc  0.5886608038441327\n",
      "i is  0.34\n",
      "auc  0.5885354289846075\n",
      "i is  0.35000000000000003\n",
      "auc  0.5884136117144646\n",
      "i is  0.36\n",
      "auc  0.5882948853257242\n",
      "i is  0.37\n",
      "auc  0.5881784603453941\n",
      "i is  0.38\n",
      "auc  0.5880628152215055\n",
      "i is  0.39\n",
      "auc  0.5879489585470193\n",
      "i is  0.4\n",
      "auc  0.5878341581531263\n",
      "i is  0.41000000000000003\n",
      "auc  0.5877208812955698\n",
      "i is  0.42\n",
      "auc  0.5876084110834165\n",
      "i is  0.43\n",
      "auc  0.5874966002155378\n",
      "i is  0.44\n",
      "auc  0.5873844853578172\n",
      "i is  0.45\n",
      "auc  0.587273085864593\n",
      "i is  0.46\n",
      "auc  0.587161219587067\n",
      "i is  0.47000000000000003\n",
      "auc  0.5870485627680435\n",
      "i is  0.48\n",
      "auc  0.5869328578078417\n",
      "i is  0.49\n",
      "auc  0.586815025758285\n",
      "i is  0.5\n",
      "auc  0.5866922869020654\n",
      "i is  0.51\n",
      "auc  0.5865646556640086\n",
      "i is  0.52\n",
      "auc  0.5864300706678539\n",
      "i is  0.53\n",
      "auc  0.5862888093434471\n",
      "i is  0.54\n",
      "auc  0.5861386369876558\n",
      "i is  0.55\n",
      "auc  0.5859801540243033\n",
      "i is  0.56\n",
      "auc  0.585811353723558\n",
      "i is  0.5700000000000001\n",
      "auc  0.5856310517996104\n",
      "i is  0.58\n",
      "auc  0.5854382259215704\n",
      "i is  0.59\n",
      "auc  0.5852336051918638\n",
      "i is  0.6\n",
      "auc  0.5850143249469874\n",
      "i is  0.61\n",
      "auc  0.5847785226290432\n",
      "i is  0.62\n",
      "auc  0.5845274776971608\n",
      "i is  0.63\n",
      "auc  0.5842584457710388\n",
      "i is  0.64\n",
      "auc  0.5839689634873465\n",
      "i is  0.65\n",
      "auc  0.5836594618354488\n",
      "i is  0.66\n",
      "auc  0.5833281703015724\n",
      "i is  0.67\n",
      "auc  0.5829716844742449\n",
      "i is  0.68\n",
      "auc  0.5825897507360304\n",
      "i is  0.6900000000000001\n",
      "auc  0.5821812462401912\n",
      "i is  0.7000000000000001\n",
      "auc  0.5817413211161482\n",
      "i is  0.71\n",
      "auc  0.5812696859515286\n",
      "i is  0.72\n",
      "auc  0.5807640816965367\n",
      "i is  0.73\n",
      "auc  0.5802204495563436\n",
      "i is  0.74\n",
      "auc  0.579637337431844\n",
      "i is  0.75\n",
      "auc  0.579011756636564\n",
      "i is  0.76\n",
      "auc  0.5783417250544617\n",
      "i is  0.77\n",
      "auc  0.5776239625641615\n",
      "i is  0.78\n",
      "auc  0.5768553344373708\n",
      "i is  0.79\n",
      "auc  0.5760339116017185\n",
      "i is  0.8\n",
      "auc  0.5751557265432823\n",
      "i is  0.81\n",
      "auc  0.5742147103029199\n",
      "i is  0.8200000000000001\n",
      "auc  0.5732133105216649\n",
      "i is  0.8300000000000001\n",
      "auc  0.5721449757337761\n",
      "i is  0.84\n",
      "auc  0.571008069637416\n",
      "i is  0.85\n",
      "auc  0.5697988073186366\n",
      "i is  0.86\n",
      "auc  0.5685149042743124\n",
      "i is  0.87\n",
      "auc  0.5671548465464964\n",
      "i is  0.88\n",
      "auc  0.56571454946726\n",
      "i is  0.89\n",
      "auc  0.5641955858005189\n",
      "i is  0.9\n",
      "auc  0.5625957578592274\n",
      "i is  0.91\n",
      "auc  0.5609114514995286\n",
      "i is  0.92\n",
      "auc  0.5591451607661271\n",
      "i is  0.93\n",
      "auc  0.5572985477957997\n",
      "i is  0.9400000000000001\n",
      "auc  0.5553689895599516\n",
      "i is  0.9500000000000001\n",
      "auc  0.5533632571022238\n",
      "i is  0.96\n",
      "auc  0.5512839239183444\n",
      "i is  0.97\n",
      "auc  0.5491326822158903\n",
      "i is  0.98\n",
      "auc  0.5469192425737196\n",
      "i is  0.99\n",
      "auc  0.5446493640843514\n"
     ]
    }
   ],
   "source": [
    "for i in np.arange(0,1,0.01):\n",
    "  tot_score = i*df['isp_score']+(1-i)*df['pred']\n",
    "  fpr, tpr, thresholds = roc_curve(df['is_vp_succ'], tot_score, pos_label=1)\n",
    "  print(\"i is \",i)\n",
    "  print(\"auc \",auc(fpr, tpr))"
   ]
  },
  {
   "cell_type": "code",
   "execution_count": null,
   "metadata": {
    "id": "3UXJ55js6A-o"
   },
   "outputs": [],
   "source": []
  }
 ],
 "metadata": {
  "accelerator": "GPU",
  "colab": {
   "provenance": []
  },
  "gpuClass": "standard",
  "kernelspec": {
   "display_name": "Python 3 (ipykernel)",
   "language": "python",
   "name": "python3"
  },
  "language_info": {
   "codemirror_mode": {
    "name": "ipython",
    "version": 3
   },
   "file_extension": ".py",
   "mimetype": "text/x-python",
   "name": "python",
   "nbconvert_exporter": "python",
   "pygments_lexer": "ipython3",
   "version": "3.9.13"
  }
 },
 "nbformat": 4,
 "nbformat_minor": 1
}
